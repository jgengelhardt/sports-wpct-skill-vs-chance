{
 "cells": [
  {
   "cell_type": "code",
   "execution_count": 1,
   "metadata": {},
   "outputs": [],
   "source": [
    "import requests\n",
    "import json\n",
    "from math import sqrt\n",
    "from statistics import variance"
   ]
  },
  {
   "cell_type": "code",
   "execution_count": 2,
   "metadata": {},
   "outputs": [
    {
     "name": "stdout",
     "output_type": "stream",
     "text": [
      "{'id': 4920, 'conferenceAbbrev': 'East', 'conferenceName': 'Eastern', 'conferenceSequence': 15, 'decision': None, 'divisionAbbrev': 'M', 'divisionName': 'Metropolitan', 'divisionSequence': 8, 'franchiseId': 23, 'gameTypeId': 2, 'gamesPlayed': 82, 'goals': 222, 'goalsAgainst': 275, 'homeLosses': 14, 'homeOvertimeLosses': 7, 'homeTies': None, 'homeWins': 20, 'leagueSequence': 29, 'losses': 41, 'overtimeLosses': 10, 'penaltyMinutes': 745, 'points': 72, 'roadLosses': 27, 'roadOvertimeLosses': 3, 'roadTies': None, 'roadWins': 11, 'seasonId': 20182019, 'seriesAbbrev': None, 'seriesTitle': None, 'shutouts': 6, 'teamId': 1, 'teamName': 'New Jersey Devils', 'ties': None, 'triCode': 'NJD', 'wins': 31}\n"
     ]
    }
   ],
   "source": [
    "# get\n",
    "season_request = requests.get('https://records.nhl.com/site/api/franchise-season-results?cayenneExp=seasonId=20182019')\n",
    "season_json = season_request.json()\n",
    "season_teams = season_json['data']\n",
    "print(season_teams[0])\n",
    "\n",
    "# only include regular season games\n",
    "filtered_teams = []\n",
    "for team in season_teams:\n",
    "    if team['gamesPlayed'] == 82:\n",
    "        filtered_teams.append(team)\n",
    "season_teams = filtered_teams"
   ]
  },
  {
   "cell_type": "code",
   "execution_count": 6,
   "metadata": {},
   "outputs": [
    {
     "name": "stdout",
     "output_type": "stream",
     "text": [
      "NHL: 0.091^2\n"
     ]
    }
   ],
   "source": [
    "def var_luck(flips):\n",
    "    # find the variance of a series of coin flips\n",
    "    return variance([1/2]*flips)\n",
    "\n",
    "def var_observed(season):\n",
    "    # find the variance of win/loss records in a league\n",
    "    season_records = []\n",
    "    for team in season:\n",
    "        season_records.append(team['wins'] / team['gamesPlayed'])\n",
    "    return variance(season_records)\n",
    "\n",
    "def var_skill(league):\n",
    "    return var_observed(season_teams) - var_luck(season_teams[0]['gamesPlayed'])\n",
    "\n",
    "print(\"NHL: \"+str(round(sqrt(var_skill(season_teams)),3))+\"^2\")"
   ]
  },
  {
   "cell_type": "code",
   "execution_count": null,
   "metadata": {},
   "outputs": [],
   "source": []
  }
 ],
 "metadata": {
  "kernelspec": {
   "display_name": "Python 3",
   "language": "python",
   "name": "python3"
  },
  "language_info": {
   "codemirror_mode": {
    "name": "ipython",
    "version": 3
   },
   "file_extension": ".py",
   "mimetype": "text/x-python",
   "name": "python",
   "nbconvert_exporter": "python",
   "pygments_lexer": "ipython3",
   "version": "3.9.0"
  }
 },
 "nbformat": 4,
 "nbformat_minor": 4
}
