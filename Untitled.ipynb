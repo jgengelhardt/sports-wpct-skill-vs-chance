{
 "cells": [
  {
   "cell_type": "code",
   "execution_count": 15,
   "metadata": {},
   "outputs": [
    {
     "name": "stdout",
     "output_type": "stream",
     "text": [
      "[39, 11, 25, 28, 36, 26, 27, 44, 11, 44]\n",
      "[11, 11, 25, 26, 27, 28, 36, 39, 44, 44]\n",
      "[11, 25, 28, 36, 39, 44, 44, 27, 26, 11]\n"
     ]
    }
   ],
   "source": [
    "# generate a list of random numbers\n",
    "import random\n",
    "\n",
    "randomlist = []\n",
    "x = 10 # desired list length\n",
    "y = 50 # how high you want the numbers to go\n",
    "for i in range(0,x):\n",
    "    n = random.randint(1,y)\n",
    "    randomlist.append(n)\n",
    "print(randomlist)\n",
    "\n",
    "# sort it to increasing order\n",
    "sortedlist = sorted(randomlist)\n",
    "\n",
    "# sort it increasing to a certain point, then descreasing\n",
    "split = 5 # where you want it to switch\n",
    "peakinglist = sorted(randomlist[:split])+sorted(randomlist[split:], reverse=True)"
   ]
  }
 ],
 "metadata": {
  "kernelspec": {
   "display_name": "Python 3",
   "language": "python",
   "name": "python3"
  },
  "language_info": {
   "codemirror_mode": {
    "name": "ipython",
    "version": 3
   },
   "file_extension": ".py",
   "mimetype": "text/x-python",
   "name": "python",
   "nbconvert_exporter": "python",
   "pygments_lexer": "ipython3",
   "version": "3.9.0"
  }
 },
 "nbformat": 4,
 "nbformat_minor": 4
}
