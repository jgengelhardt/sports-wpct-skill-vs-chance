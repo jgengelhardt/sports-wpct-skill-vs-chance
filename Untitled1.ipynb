{
 "cells": [
  {
   "cell_type": "code",
   "execution_count": 3,
   "metadata": {},
   "outputs": [
    {
     "name": "stdout",
     "output_type": "stream",
     "text": [
      "[21, 14, 8, 30, 15, 19, 46, 27, 28, 6]\n",
      "The script took 0.0010013580322265625 second !\n"
     ]
    }
   ],
   "source": [
    "import time \n",
    "startTime = time.time()\n",
    "\n",
    "import random\n",
    "randomlist = []\n",
    "x = 10 # desired list length\n",
    "y = 50 # how high you want the numbers to go\n",
    "n = random.randint(1,y)\n",
    "for i in range(0,x):\n",
    "    while n in randomlist: # if the number is already in the list, \n",
    "        n = random.randint(1,y) # generate a new number\n",
    "    randomlist.append(n)\n",
    "print(randomlist)\n",
    "\n",
    "print ('The script took {0} second !'.format(time.time() - startTime))"
   ]
  },
  {
   "cell_type": "code",
   "execution_count": 4,
   "metadata": {},
   "outputs": [
    {
     "name": "stdout",
     "output_type": "stream",
     "text": [
      "[[1422  823  818  940]\n",
      " [ 395  307  289  366]\n",
      " [  96  115   97  282]\n",
      " [  95   88   68  134]\n",
      " [  57   80   10   79]]\n",
      "The script took 0.0020003318786621094 second !\n"
     ]
    }
   ],
   "source": [
    "import time \n",
    "startTime = time.time()\n",
    "\n",
    "import numpy as np\n",
    "def genRandTable(mxRows = 5, mxCols=4, policy = 'gt', mxValue = None):\n",
    "    if mxValue is None: mxValue = np.random.randint(10,10000, size=1)[0]\n",
    "    allList = np.random.randint(0,mxValue, size=(mxRows,mxCols))\n",
    "    baseList = [allList[0][v] for v in range(mxCols)]\n",
    "    for n in range(1,mxRows):\n",
    "        # Policy: new values must be > old values\n",
    "        if policy == 'gt':\n",
    "            baseList = [baseList[i] + allList[n][i] for i in range(mxCols)]\n",
    "        elif policy == 'lt':\n",
    "            baseList = [baseList[i] - allList[n][i] for i in range(mxCols)]\n",
    "        else:\n",
    "            # FIXME: do whatever you want as a default\n",
    "            baseList = [allList[n][i] % baseList[i]  for i in range(mxCols)]\n",
    "\n",
    "        allList[n] = baseList\n",
    "    return allList\n",
    "allList = genRandTable(policy='xx')\n",
    "print(allList)\n",
    "\n",
    "print ('The script took {0} second !'.format(time.time() - startTime))"
   ]
  }
 ],
 "metadata": {
  "kernelspec": {
   "display_name": "Python 3",
   "language": "python",
   "name": "python3"
  },
  "language_info": {
   "codemirror_mode": {
    "name": "ipython",
    "version": 3
   },
   "file_extension": ".py",
   "mimetype": "text/x-python",
   "name": "python",
   "nbconvert_exporter": "python",
   "pygments_lexer": "ipython3",
   "version": "3.9.0"
  }
 },
 "nbformat": 4,
 "nbformat_minor": 4
}
